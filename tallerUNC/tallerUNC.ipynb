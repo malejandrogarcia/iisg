{
 "cells": [
  {
   "cell_type": "markdown",
   "metadata": {
    "slideshow": {
     "slide_type": "slide"
    }
   },
   "source": [
    "<center>\n",
    "Machine Learning e Imágenes con Python 2019\n",
    "    \n",
    "# Corte interactivo de grafos para Segmentación de Imágenes\n",
    "<br><br><br>\n",
    "### (Mario) Alejandro García\n",
    "</center>"
   ]
  },
  {
   "cell_type": "markdown",
   "metadata": {
    "slideshow": {
     "slide_type": "slide"
    }
   },
   "source": [
    "<center><b>Algunos conceptos de Teoría de Grafos</b></center>\n",
    "\n",
    "<b>Grafo</b>. Un grafo es un conjunto de vértices (nodos) conectados mediante aristas (arcos).\n",
    "\n",
    "<br>\n",
    "<center>\n",
    "<img src=\"grafo_t.png\" width=\"50%\">\n",
    "</center>"
   ]
  },
  {
   "cell_type": "markdown",
   "metadata": {
    "slideshow": {
     "slide_type": "slide"
    }
   },
   "source": [
    "<center><b>Algunos conceptos de Teoría de Grafos</b></center>\n",
    "\n",
    "<b>Digrafo</b>. Un grafo dirigido, o digrafo, es un grafo cuyas aristas tiene una dirección.\n",
    "\n",
    "<br>\n",
    "<center>\n",
    "<img src=\"digrafo_t.png\" width=\"50%\">\n",
    "</center>"
   ]
  },
  {
   "cell_type": "markdown",
   "metadata": {
    "slideshow": {
     "slide_type": "slide"
    }
   },
   "source": [
    "<center><b>Algunos conceptos de Teoría de Grafos</b></center>\n",
    "\n",
    "<b>Red</b>. Una red es un digrafo con un vértice fuente (s), un sumidero (t) y capacidades definidas para las aristas.\n",
    "\n",
    "<br>\n",
    "<center>\n",
    "<img src=\"red_t.png\" width=\"68%\">\n",
    "</center>"
   ]
  },
  {
   "cell_type": "markdown",
   "metadata": {
    "slideshow": {
     "slide_type": "slide"
    }
   },
   "source": [
    "<center><b>Algunos conceptos de Teoría de Grafos</b></center>\n",
    "\n",
    "<b>Flujo</b>. Sobre una red se puede definir un flujo desde la fuente hasta el sumidero.\n",
    "\n",
    "<center>\n",
    "<img src=\"flujo_t.png\" width=\"68%\">\n",
    "</center>"
   ]
  },
  {
   "cell_type": "markdown",
   "metadata": {
    "slideshow": {
     "slide_type": "fragment"
    }
   },
   "source": [
    "Según el teorema <i>Max-Flow/Min-Cut</i>, para una red $\\mathcal{M}$, el mayor flujo posible entre la fuente y el sumidero es igual al corte de costo mínimo en $\\mathcal{M}$."
   ]
  },
  {
   "cell_type": "markdown",
   "metadata": {
    "slideshow": {
     "slide_type": "slide"
    }
   },
   "source": [
    "<center><b>Imágenes digitales</b></center>\n",
    "\n",
    "- Una imagen digital es una matriz formada por pixeles. \n",
    "- Un pixel, acrónimo de <i>picture element</i>, es la menor unidad homogenea en color e intensidad en la imagen.\n",
    "- El valor de cada pixel indica la intensidad lumínica en esa zona de la imagen.\n",
    "- Los valores válidos de intensdidad son los enteros entre $0$ y $2^n − 1$, donde $n$ es la cantidad de bits elegidos para codificar la imagen."
   ]
  },
  {
   "cell_type": "markdown",
   "metadata": {
    "slideshow": {
     "slide_type": "slide"
    }
   },
   "source": [
    "<center><b>Segmentación de imágenes</b></center>\n",
    "\n",
    "- Es el proceso de extraer (identificar y aislar) regiones de interés en la imágen.\n",
    "- Esta técnica se enfoca en la segmentación binaria. Se busca dividir la imagen en dos segmentos, el objeto de interés y el fondo.\n",
    "- La salida del proceso de segmentación es, en este caso, un arreglo binario con un elemento por cada pixel. El valor 1 indica que ese pixel pertenece al objeto de interés."
   ]
  },
  {
   "cell_type": "markdown",
   "metadata": {
    "slideshow": {
     "slide_type": "slide"
    }
   },
   "source": [
    "<center><b>Segmentación de imágenes</b></center>\n",
    "<center>\n",
    "<img src=\"Imagen_002.png\" width=\"30%\">\n",
    "</center>\n",
    "<br>\n",
    "<br>\n",
    "\n",
    "<center>\n",
    "A = $[0, 0, 0, 0, 0, 0, 0, 1, 0, 0, 0, 1, 1, 1, 0, 0, 0, 1, 0, 0, 0, 0, 0, 0, 0]$\n",
    "</center>"
   ]
  },
  {
   "cell_type": "markdown",
   "metadata": {
    "slideshow": {
     "slide_type": "slide"
    }
   },
   "source": [
    "<center><b>Segmentación interactiva de imágenes</b></center>\n",
    "\n",
    "Se espera que un usuario señale por lo menos un pixel del objeto y un pixel del fondo.\n",
    "<br><br>\n",
    "<center>\n",
    "<img src=\"Imagen_003_1.png\" width=\"30%\">\n",
    "</center>"
   ]
  },
  {
   "cell_type": "markdown",
   "metadata": {
    "slideshow": {
     "slide_type": "slide"
    }
   },
   "source": [
    "<center><b>Segmentación interactiva de imágenes</b></center>\n",
    "\n",
    "- Los pixeles seleccionados por el usuario se llaman semillas.\n",
    "- Las semillas imponen <i>hard constraints</i> a la segmentación.\n",
    "- El resto de la imagen se segmenta mediante el cálculo de un óptimo global entre todas las segmentaciones posibles. \n",
    "- La función de costo o energı́a se define en términos de dos propiedades de los segmentos de la imagen, borde y región."
   ]
  },
  {
   "cell_type": "markdown",
   "metadata": {
    "slideshow": {
     "slide_type": "slide"
    }
   },
   "source": [
    "<center><b>Representación de la imagen en un grafo</b></center>\n",
    "\n",
    "- Se crea un grafo donde cada pixel de la imagen es un vértice.\n",
    "- Se añaden al grafo los vétices terminales $s$ y $t$, llamados \"fuente\" y \"sumidero\" respectivamente.\n",
    "- El vértice $s$ está asociado al objeto y el vértice $t$ al fondo. \n",
    "- Existen dos tipos de aristas: <i>n-links</i> (aristas de vecindad) y <i>t-links</i> (aristas terminales). \n",
    "- Cada arista tiene asignado un peso no negativo.\n",
    "- Cada vértice-pixel $p$ tiene dos aristas <i>t-link</i> $\\{s,p\\}$ y $\\{p,t\\}$ conecatándolo con cada uno de los vértices terminales. \n",
    "- Cada par de vértices vecinos está conectado por un par de <i>n-links</i>.\n",
    "- Si $\\mathcal{O}$ y $\\mathcal{B}$ son los conjuntos de pixeles semilla marcados como \"$obj$\" y \"$bkg$\", se cumple que $\\mathcal{O} \\cap \\mathcal{B} = \\emptyset $. "
   ]
  },
  {
   "cell_type": "markdown",
   "metadata": {
    "slideshow": {
     "slide_type": "slide"
    }
   },
   "source": [
    "<center><b>Representación de la imagen en un grafo</b></center>\n",
    "<br>\n",
    "<center>\n",
    "<img src=\"grafo_imagen.png\" width=\"50%\">\n",
    "</center>\n",
    "\n"
   ]
  },
  {
   "cell_type": "markdown",
   "metadata": {
    "slideshow": {
     "slide_type": "slide"
    }
   },
   "source": [
    "<center><b>Flujo máximo/corte mínimo en una imagen</b></center>\n",
    "<br><br>\n",
    "<center>\n",
    "<img src=\"grafo_imagen_corte.png\" width=\"50%\">\n",
    "</center>\n",
    "\n"
   ]
  },
  {
   "cell_type": "markdown",
   "metadata": {
    "slideshow": {
     "slide_type": "slide"
    }
   },
   "source": [
    "<center><b>Segmentación interactiva de imágenes</b></center>\n",
    "\n",
    "- Los pixeles seleccionados por el usuario se llaman semillas.\n",
    "- Las semillas imponen <i>hard constraints</i> a la segmentación.\n",
    "- El resto de la imagen se segmenta mediante el cálculo de un óptimo global entre todas las segmentaciones posibles. \n",
    "- <font color=\"red\">La función de costo o energı́a se define en términos de dos propiedades de los segmentos de la imagen, borde y región.</font> \n",
    " "
   ]
  },
  {
   "cell_type": "markdown",
   "metadata": {
    "slideshow": {
     "slide_type": "slide"
    }
   },
   "source": [
    "<center><b>Función de energía</b></center>\n",
    "\n",
    "Considerando\n",
    "- Un conjunto de pixeles $P$\n",
    "- El conjunto $N$ de pares no ordenados $\\{p,q\\}$ para $p,q \\in P$ y $p,q$ vecinos en la imagen.\n",
    "\n",
    "Se define a $A = (A_1, ..., A_p, ...,A_{|P|})$ como un vector binario cuyos componentes $A_p$ determinan la asignación de cada uno de los pixeles $p \\in P$ al objeto o al fondo. Los valores válidos para $A_p$ son \"$obj$\" y \"$bkg$\".\n",
    "\n"
   ]
  },
  {
   "cell_type": "markdown",
   "metadata": {
    "slideshow": {
     "slide_type": "slide"
    }
   },
   "source": [
    "<center><b>Función de energía</b></center>\n",
    "\n",
    "Las restricciones blandas asociadas a las propiedades región y borde componen la función de energía $E(A)$.\n",
    "\n",
    "$$\\scriptsize E(A) = \\lambda R(A)+B(A)$$\n",
    "\n",
    "donde\n",
    "\n",
    "$$\\scriptsize R(A) = \\sum_{p \\in P} R_p(A_p)$$\n",
    "\n",
    "$$\\scriptsize B(A) = \\sum_{\\{p,q\\} \\in N} B_{\\{p,q\\}} \\delta (A_p, A_q)$$\n",
    "\n",
    "$$\\scriptsize \\delta (A_p, A_q) = \\left\\{\n",
    "\\begin{array}{ll}\n",
    "1      & \\mathrm{si\\ } A_p \\neq A_q \\\\\n",
    "0 & \\mathrm{si\\ } A_p = A_q\n",
    "\\end{array}\n",
    "\\right.$$"
   ]
  },
  {
   "cell_type": "markdown",
   "metadata": {
    "slideshow": {
     "slide_type": "slide"
    }
   },
   "source": [
    "<center><b>Función de energía</b></center>\n",
    "\n",
    "$$\\scriptsize R(A) = \\sum_{p \\in P} R_p(A_p)$$\n",
    "\n",
    "- El término $R(A)$ asume que las penalidades individuales por asignarle a un pixel $p$ el valor \"obj\" o \"bkg\" son dadas. \n",
    "- Por ejemplo, $R_p(\\cdot)$ podría reflejar cómo la intensidad del pixel $p$ se ajusta a una distribución de intensidad definida por los valores de las semillas."
   ]
  },
  {
   "cell_type": "markdown",
   "metadata": {
    "slideshow": {
     "slide_type": "slide"
    }
   },
   "source": [
    "<center><b>Función de energía</b></center>\n",
    "\n",
    "$$\\scriptsize B(A) = \\sum_{\\{p,q\\} \\in N} B_{\\{p,q\\}} \\delta (A_p, A_q)$$\n",
    "\n",
    "\n",
    "- El término $B(A)$ aporta la información relativa a los bordes, es decir, la frontera entre el objeto y el fondo. \n",
    "- El coeficiente $B_{\\{p,q\\}} \\geq 0$ se debe interpretar como una penalidad por la discontinuidad (corte) entre $p$ y $q$. \n",
    "- $B_{\\{p,q\\}}$ debe ser grande cuando los pixeles $p$ y $q$ tienen intensidades similares y cercano a cero cuando las intensidades son muy diferentes. \n",
    "- La penalidad $B_{\\{p,q\\}}$ puede estar basada en el gradiente local de la intensidad."
   ]
  },
  {
   "cell_type": "markdown",
   "metadata": {
    "slideshow": {
     "slide_type": "slide"
    }
   },
   "source": [
    "<center><b>Función de energía</b></center>\n",
    "\n",
    "Asignación de pesos a las aristas\n",
    "\n",
    "<center>\n",
    "<img src=\"tabla_pesos.png\" width=\"47%\">\n",
    "</center>\n",
    "\n",
    "$$\\scriptsize K = 1 + \\max_{p \\in P} \\sum_{q:\\{p,q\\} \\in N}^{} B_{\\{p,q\\}}$$"
   ]
  },
  {
   "cell_type": "markdown",
   "metadata": {
    "slideshow": {
     "slide_type": "slide"
    }
   },
   "source": [
    "<center><b>Función de energía</b></center>\n",
    "<br>\n",
    "<center>\n",
    "<img src=\"grafo_imagen_pesos.png\" width=\"50%\">\n",
    "</center>\n",
    "\n"
   ]
  },
  {
   "cell_type": "markdown",
   "metadata": {
    "slideshow": {
     "slide_type": "slide"
    }
   },
   "source": [
    "<center><b>Ejemplo</b></center>\n",
    "\n",
    "Función de energía de Boykov & Jolly [1]\n",
    "\n",
    "<br>\n",
    "<br>\n",
    "$$R_p(\\text{''}obj\\text{''})=-ln Pr(I_p|\\mathcal O)$$\n",
    "$$R_p(\\text{''}bkg\\text{''})=-ln Pr(I_p|\\mathcal B)$$\n",
    "<br>\n",
    "$$B_{\\{p,q\\}}=exp\\Big( -\\frac{(I_p-I_q)^2}{2\\sigma^2} \\Big) \\frac{1}{dist(p,q)}$$\n",
    "\n",
    "<br>\n",
    "<br>\n",
    "<br>\n",
    "<small>[1] Boykov, Yuri Y., and M-P. Jolly. \"Interactive graph cuts for optimal boundary & region segmentation of objects in ND images.\" <i>Proceedings eighth IEEE international conference on computer vision. ICCV 2001.</i> Vol. 1. IEEE, 2001.</small>"
   ]
  },
  {
   "cell_type": "markdown",
   "metadata": {
    "slideshow": {
     "slide_type": "slide"
    }
   },
   "source": [
    "<center><b>Ejemplo</b></center>\n",
    "<br>\n",
    "<br>\n",
    "<br>\n",
    "\n",
    "<center>Vamos al código...</center>"
   ]
  },
  {
   "cell_type": "markdown",
   "metadata": {
    "slideshow": {
     "slide_type": "slide"
    }
   },
   "source": [
    "<center><b>Ejercicio</b></center>\n",
    "<center>\n",
    "<img src=\"rino01.jpg\" width=\"30%\">\n",
    "</center>\n",
    "\n",
    "Segmentar el rinocerontecito usando como base el el notebook del ejemplo y usar la funcion vista recien de OpenCV.\n",
    "\n",
    "<small>notebook: https://github.com/malejandrogarcia/iisg/blob/master/examples/ejemplo_01.ipynb</small>\n",
    "<small>imagen: https://github.com/malejandrogarcia/iisg/blob/master/tallerUNC/rino01.jpg</small>"
   ]
  },
  {
   "cell_type": "markdown",
   "metadata": {
    "slideshow": {
     "slide_type": "slide"
    }
   },
   "source": [
    "<center>\n",
    "    \n",
    "### ¿Peguntas?    \n",
    "</center>\n",
    "<br><br><br><br>\n",
    "<center>    \n",
    "mgarcia@frc.utn.edu.ar\n",
    "\n",
    "</center>"
   ]
  }
 ],
 "metadata": {
  "celltoolbar": "Slideshow",
  "kernelspec": {
   "display_name": "Python 2",
   "language": "python",
   "name": "python2"
  },
  "language_info": {
   "codemirror_mode": {
    "name": "ipython",
    "version": 3
   },
   "file_extension": ".py",
   "mimetype": "text/x-python",
   "name": "python",
   "nbconvert_exporter": "python",
   "pygments_lexer": "ipython3",
   "version": "3.7.4"
  }
 },
 "nbformat": 4,
 "nbformat_minor": 2
}
