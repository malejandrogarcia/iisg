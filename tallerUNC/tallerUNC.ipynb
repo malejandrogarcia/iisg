{
 "cells": [
  {
   "cell_type": "markdown",
   "metadata": {
    "slideshow": {
     "slide_type": "slide"
    }
   },
   "source": [
    "<center>\n",
    "Machine Learning e Imágenes con Python 2019\n",
    "    \n",
    "# Corte interactivo de grafos para Segmentación de Imágenes\n",
    "<br><br><br>\n",
    "### Mario Alejandro García\n",
    "</center>"
   ]
  },
  {
   "cell_type": "markdown",
   "metadata": {
    "slideshow": {
     "slide_type": "slide"
    }
   },
   "source": [
    "<center><b>Imágenes digitales</b></center>\n",
    "\n",
    "- Una imagen digital es una matriz formada por pixeles. \n",
    "- Un pixel, acrónimo de <i>picture element</i>, es la menor unidad homogenea en color e intensidad en la imagen.\n",
    "- El valor de cada pixel indica la intensidad lumínica en esa zona de la imagen.\n",
    "- Los valores válidos de intensdidad son los enteros entre $0$ y $2^n − 1$, donde $n$ es la cantidad de bits elegidos para codificar la imagen."
   ]
  },
  {
   "cell_type": "markdown",
   "metadata": {
    "slideshow": {
     "slide_type": "slide"
    }
   },
   "source": [
    "<center><b>Segmentación de imágenes</b></center>\n",
    "\n",
    "- Es el proceso de extraer (identificar y aislar) regiones de interés en la imágen.\n",
    "- Este trabajo se enfoca en la segmentación binaria. Se busca dividir la imagen en dos segmentos, el objeto de interés y el fondo.\n",
    "- La salida del proceso de segmentación es, en este caso, un arreglo binario con un elemento por cada pixel. El valor 1 indica que ese pixel pertenece al objeto de interés."
   ]
  },
  {
   "cell_type": "markdown",
   "metadata": {
    "slideshow": {
     "slide_type": "slide"
    }
   },
   "source": [
    "<center><b>Segmentación de imágenes</b></center>\n",
    "<center>\n",
    "<img src=\"Imagen_002.png\" width=\"30%\">\n",
    "</center>\n",
    "<br>\n",
    "<br>\n",
    "\n",
    "<center>\n",
    "A = $[0, 0, 0, 0, 0, 0, 0, 1, 0, 0, 0, 1, 1, 1, 0, 0, 0, 1, 0, 0, 0, 0, 0, 0, 0]$\n",
    "</center>"
   ]
  },
  {
   "cell_type": "markdown",
   "metadata": {
    "slideshow": {
     "slide_type": "slide"
    }
   },
   "source": [
    "<center><b>Segmentación interactiva de imágenes</b></center>\n",
    "\n",
    "Se espera que un usuario señale por lo menos un pixel del objeto y un pixel del fondo.\n",
    "<br><br>\n",
    "<center>\n",
    "<img src=\"Imagen_003.png\" width=\"30%\">\n",
    "</center>"
   ]
  },
  {
   "cell_type": "markdown",
   "metadata": {
    "slideshow": {
     "slide_type": "slide"
    }
   },
   "source": [
    "<center><b>Segmentación interactiva de imágenes</b></center>\n",
    "\n",
    "- Los pixeles seleccionados por el usuario se llaman semillas.\n",
    "- Las semillas imponen <i>hard constraints</i> a la segmentación.\n",
    "- El resto de la imagen se segmenta mediante el cálculo de un óptimo global entre todas las segmentaciones posibles. \n",
    "- La función de costo o energı́a se define en términos de dos propiedades de los segmentos de la imagen, borde y región."
   ]
  },
  {
   "cell_type": "markdown",
   "metadata": {
    "slideshow": {
     "slide_type": "slide"
    }
   },
   "source": [
    "<center><b>Algunos conceptos de Teoría de Grafos</b></center>\n",
    "\n",
    "<b>Grafo</b>. Un grafo es un conjunto de vértices (nodos) conectados mediante aristas (arcos).\n",
    "\n",
    "<br>\n",
    "<center>\n",
    "<img src=\"grafo_t.png\" width=\"50%\">\n",
    "</center>"
   ]
  },
  {
   "cell_type": "markdown",
   "metadata": {
    "slideshow": {
     "slide_type": "slide"
    }
   },
   "source": [
    "<center><b>Algunos conceptos de Teoría de Grafos</b></center>\n",
    "\n",
    "<b>Digrafo</b>. Un grafo dirigido, o digrafo, es un grafo cuyas aristas tiene una dirección.\n",
    "\n",
    "<br>\n",
    "<center>\n",
    "<img src=\"digrafo_t.png\" width=\"50%\">\n",
    "</center>"
   ]
  },
  {
   "cell_type": "markdown",
   "metadata": {
    "slideshow": {
     "slide_type": "slide"
    }
   },
   "source": [
    "<center><b>Algunos conceptos de Teoría de Grafos</b></center>\n",
    "\n",
    "<b>Red</b>. Una red es un digrafo con un vértice fuente (s), un sumidero (t) y capacidades definidas para las aristas.\n",
    "\n",
    "<br>\n",
    "<center>\n",
    "<img src=\"red_t.png\" width=\"68%\">\n",
    "</center>"
   ]
  },
  {
   "cell_type": "markdown",
   "metadata": {
    "slideshow": {
     "slide_type": "slide"
    }
   },
   "source": [
    "<center><b>Algunos conceptos de Teoría de Grafos</b></center>\n",
    "\n",
    "<b>Flujo</b>. Sobre una red se puede definir un flujo desde la fuente hasta el sumidero.\n",
    "\n",
    "<center>\n",
    "<img src=\"flujo_t.png\" width=\"68%\">\n",
    "</center>"
   ]
  },
  {
   "cell_type": "markdown",
   "metadata": {
    "slideshow": {
     "slide_type": "fragment"
    }
   },
   "source": [
    "Según el teorema <i>Max-Flow/Min-Cut</i>, en una red $\\mathcal{M}$ el mayor flujo posible entre la fuente y el sumidero es igual al corte de costo mínimo en $\\mathcal{M}$."
   ]
  },
  {
   "cell_type": "markdown",
   "metadata": {
    "slideshow": {
     "slide_type": "slide"
    }
   },
   "source": [
    "<center><b>Representación de la imagen en un grafo</b></center>\n",
    "\n",
    "- Se crea un grafo donde cada pixel de la imagen es un vértice.\n",
    "- Se añaden al grafo los vétices terminales $s$ y $t$, llamados \"fuente\" y \"sumidero\" respectivamente.\n",
    "- El vértice $s$ está asociado al objeto y el vértice $t$ al fondo. \n",
    "- Existen dos tipos de aristas: <i>n-links</i> (aristas de vecindad) y <i>t-links</i> (aristas terminales). \n",
    "- Cada arista tiene asignado un peso no negativo.\n",
    "- Cada vértice-pixel $p$ tiene dos aristas <i>t-link</i> $\\{s,p\\}$ y $\\{p,t\\}$ conecatándolo con cada uno de los vértices terminales. \n",
    "- Cada par de vértices vecinos está conectado por un par de <i>n-links</i>.\n",
    "- Si $\\mathcal{O}$ y $\\mathcal{B}$ son los conjuntos de pixeles semilla marcados como \"$obj$\" y \"$bkg$\", se cumple que $\\mathcal{O} \\cap \\mathcal{B} = \\emptyset $. "
   ]
  },
  {
   "cell_type": "markdown",
   "metadata": {
    "slideshow": {
     "slide_type": "slide"
    }
   },
   "source": [
    "<center><b>Flujo máximo/corte mínimo en una imagen</b></center>\n",
    "<br><br>\n",
    "<center>\n",
    "<img src=\"imagen_grafo.png\" width=\"70%\">\n",
    "</center>\n",
    "\n"
   ]
  },
  {
   "cell_type": "markdown",
   "metadata": {
    "slideshow": {
     "slide_type": "slide"
    }
   },
   "source": [
    "<center><b>Segmentación interactiva de imágenes</b></center>\n",
    "\n",
    "- Los pixeles seleccionados por el usuario se llaman semillas.\n",
    "- Las semillas imponen <i>hard constraints</i> a la segmentación.\n",
    "- El resto de la imagen se segmenta mediante el cálculo de un óptimo global entre todas las segmentaciones posibles. \n",
    "- <font color=\"red\">La función de costo o energı́a se define en términos de dos propiedades de los segmentos de la imagen, borde y región.</font> \n",
    " "
   ]
  },
  {
   "cell_type": "markdown",
   "metadata": {
    "slideshow": {
     "slide_type": "slide"
    }
   },
   "source": [
    "<center><b>Función de energía</b></center>\n",
    "\n",
    "Considerando\n",
    "- Un conjunto de pixeles $P$\n",
    "- El conjunto $N$ de pares no ordenados $\\{p,q\\}$ para $p,q \\in P$ y $p,q$ vecinos en la imagen.\n",
    "\n",
    "Se define a $A = (A_1, ..., A_p, ...,A_{|P|})$ como un vector binario cuyos componentes $A_p$ determinan la asignación de cada uno de los pixeles $p \\in P$ al objeto o al fondo. Los valores válidos para $A_p$ son \"$obj$\" y \"$bkg$\".\n",
    "\n"
   ]
  },
  {
   "cell_type": "markdown",
   "metadata": {
    "slideshow": {
     "slide_type": "slide"
    }
   },
   "source": [
    "<center><b>Función de energía</b></center>\n",
    "\n",
    "Las restricciones blandas asociadas a las propiedades región y borde componen la función de energía $E(A)$.\n",
    "\n",
    "$$\\scriptsize E(A) = \\lambda R(A)+B(A)$$\n",
    "\n",
    "donde\n",
    "\n",
    "$$\\scriptsize R(A) = \\sum_{p \\in P} R_p(A_p)$$\n",
    "\n",
    "$$\\scriptsize B(A) = \\sum_{\\{p,q\\} \\in N} B_{\\{p,q\\}} \\delta (A_p, A_q)$$\n",
    "\n",
    "$$\\scriptsize \\delta (A_p, A_q) = \\left\\{\n",
    "\\begin{array}{ll}\n",
    "1      & \\mathrm{si\\ } A_p \\neq A_q \\\\\n",
    "0 & \\mathrm{si\\ } A_p = A_q\n",
    "\\end{array}\n",
    "\\right.$$"
   ]
  },
  {
   "cell_type": "markdown",
   "metadata": {
    "slideshow": {
     "slide_type": "slide"
    }
   },
   "source": [
    "<center><b>Función de energía</b></center>\n",
    "\n",
    "$$\\scriptsize R(A) = \\sum_{p \\in P} R_p(A_p)$$\n",
    "\n",
    "- El término $R(A)$ asume que las penalidades individuales por asignarle a un pixel $p$ el valor \"obj\" o \"bkg\" son dadas. \n",
    "- Por ejemplo, $R_p(\\cdot)$ podría reflejar cómo la intensidad del pixel $p$ se ajusta a una distribución de intensidad definida por los valores de las semillas."
   ]
  },
  {
   "cell_type": "markdown",
   "metadata": {
    "slideshow": {
     "slide_type": "slide"
    }
   },
   "source": [
    "<center><b>Función de energía</b></center>\n",
    "\n",
    "$$\\scriptsize B(A) = \\sum_{\\{p,q\\} \\in N} B_{\\{p,q\\}} \\delta (A_p, A_q)$$\n",
    "\n",
    "\n",
    "- El término $B(A)$ aporta la información relativa a los bordes, es decir, la frontera entre el objeto y el fondo. \n",
    "- El coeficiente $B_{\\{p,q\\}} \\geq 0$ se debe interpretar como una penalidad por la discontinuidad (corte) entre $p$ y $q$. \n",
    "- $B_{\\{p,q\\}}$ debe ser grande cuando los pixeles $p$ y $q$ tienen intensidades similares y cercano a cero cuando las intensidades son muy diferentes. \n",
    "- La penalidad $B_{\\{p,q\\}}$ puede estar basada en el gradiente local de la intensidad."
   ]
  },
  {
   "cell_type": "markdown",
   "metadata": {
    "slideshow": {
     "slide_type": "slide"
    }
   },
   "source": [
    "<center><b>Función de energía</b></center>\n",
    "\n",
    "Asignación de pesos a las aristas\n",
    "\n",
    "<center>\n",
    "<img src=\"tabla_pesos.png\" width=\"47%\">\n",
    "</center>\n",
    "\n",
    "$$\\scriptsize K = 1 + \\max_{p \\in P} \\sum_{q:\\{p,q\\} \\in N}^{} B_{\\{p,q\\}}$$"
   ]
  },
  {
   "cell_type": "markdown",
   "metadata": {
    "slideshow": {
     "slide_type": "slide"
    }
   },
   "source": [
    "<center><b>Ejemplo</b></center>\n",
    "\n",
    "Función de energía de Boykov & Jolly [1]\n",
    "\n",
    "<br>\n",
    "<br>\n",
    "$$R_p(\\text{''}obj\\text{''})=-ln Pr(I_p|\\mathcal O)$$\n",
    "$$R_p(\\text{''}bkg\\text{''})=-ln Pr(I_p|\\mathcal B)$$\n",
    "<br>\n",
    "$$B_{\\{p,q\\}}=exp\\Big( -\\frac{(I_p-I_q)^2}{2\\sigma^2} \\Big) \\frac{1}{dist(p,q)}$$\n",
    "\n",
    "<br>\n",
    "<br>\n",
    "<br>\n",
    "<small>[1] Boykov, Yuri Y., and M-P. Jolly. \"Interactive graph cuts for optimal boundary & region segmentation of objects in ND images.\" <i>Proceedings eighth IEEE international conference on computer vision. ICCV 2001.</i> Vol. 1. IEEE, 2001.</small>"
   ]
  },
  {
   "cell_type": "markdown",
   "metadata": {
    "slideshow": {
     "slide_type": "slide"
    }
   },
   "source": [
    "<center><b>Ejemplo</b></center>\n",
    "<br>\n",
    "<br>\n",
    "<br>\n",
    "\n",
    "<center>Vamos al código...</center>"
   ]
  },
  {
   "cell_type": "markdown",
   "metadata": {
    "slideshow": {
     "slide_type": "slide"
    }
   },
   "source": [
    "<center><b>Ejercicio</b></center>\n",
    "<center>\n",
    "<img src=\"rino01.jpg\" width=\"30%\">\n",
    "</center>\n",
    "\n",
    "Segmentar la imagen del rinocerontecito usando como base el el notebook del ejemplo.\n",
    "\n",
    "https://github.com/malejandrogarcia/iisg/blob/master/examples/ejemplo_01.ipynb."
   ]
  },
  {
   "cell_type": "markdown",
   "metadata": {
    "slideshow": {
     "slide_type": "slide"
    }
   },
   "source": [
    "<center><b>Segmentación y corte</b></center>\n",
    "\n",
    "La segmentación que minimiza la función de energía coincide con el corte de costo mínimo $\\widehat{\\mathcal{C}}$ en el grafo $\\mathcal{G}$ tal que los vértices $s$ y $t$ queden en dos componentes conexas distintas."
   ]
  },
  {
   "cell_type": "markdown",
   "metadata": {
    "slideshow": {
     "slide_type": "slide"
    }
   },
   "source": [
    "<center><b>Segmentación y corte</b></center>\n",
    "\n",
    "- El corte de costo mínimo $\\widehat{\\mathcal{C}}$ define la segmentación $\\widehat{A}$. \n",
    "\n",
    "- Se asume que $\\mathcal{F}$ es el conjunto de todos los cortes posibles $\\mathcal{C}$ sobre el grafo $\\mathcal{G}$ tal que\n",
    "\n",
    "    - $\\mathcal{C}$ corta exactamente un <i>t-link</i> por cada $p$\n",
    "    - $\\{p,q\\}\\in \\mathcal{C}$ si $p$ y $q$ están conectados a terminales distintos\n",
    "    - Si $p \\in \\mathcal{O}$, entonces $\\{p,t\\} \\in \\mathcal{C}$\n",
    "    - Si $p \\in \\mathcal{B}$, entonces $\\{s,p\\} \\in \\mathcal{C}$\n"
   ]
  },
  {
   "cell_type": "markdown",
   "metadata": {
    "slideshow": {
     "slide_type": "slide"
    }
   },
   "source": [
    "<center><b>Segmentación y corte</b></center>\n",
    "\n",
    "<b>Lema:</b> Existe el corte de costo mínimo sobre $\\mathcal{G}$, es decir $\\widehat{\\mathcal{C}} \\in \\mathcal{F}$.\n",
    "\n",
    "\n",
    "<b>Prueba:</b>\n",
    "\n",
    "- $\\widehat{\\mathcal{C}}$ separa los terminales, por lo tanto corta al menos un <i>t-link</i> por cada pixel. \n",
    "- $\\widehat{\\mathcal{C}}$ no puede cortar los dos <i>t-links</i> de un pixel. En ese caso no sería mínimo."
   ]
  },
  {
   "cell_type": "markdown",
   "metadata": {
    "slideshow": {
     "slide_type": "slide"
    }
   },
   "source": [
    "<center><b>Segmentación y corte</b></center>\n",
    "\n",
    "<b>Lema:</b> Existe el corte de costo mínimo sobre $\\mathcal{G}$, es decir $\\widehat{\\mathcal{C}} \\in \\mathcal{F}$.\n",
    "\n",
    "\n",
    "<b>Prueba:</b>\n",
    "\n",
    "- Un corte mínimo debe cortar un <i>n-link</i> $\\{p,q\\}$ si $p$ y $q$ están conectados a terminales distintos.\n",
    "    - Todo corte debe separar los terminales.\n",
    "    - Si $p$ y $q$ están conectados al mismo terminal $\\widehat{\\mathcal{C}}$ no lo corta por minimalidad.\n",
    "    \n",
    "    \n",
    "- Lo anterior es cierto porque $K$ es mayor que la suma de todos los  <i>n-links</i> para cualquier pixel $p$."
   ]
  },
  {
   "cell_type": "markdown",
   "metadata": {
    "slideshow": {
     "slide_type": "slide"
    }
   },
   "source": [
    "<center><b>Segmentación y corte</b></center>\n",
    "\n",
    "Para cada corte $\\mathcal{C} \\in \\mathcal{F}$ se puede definir una única segmentación correspondiente $A(\\mathcal{C})$ tal que\n",
    "\n",
    "$$\n",
    "A_p(\\mathcal{C}) = \\left\\{\n",
    "\\begin{array}{ll}\n",
    "\"obj\" & \\mathrm{si\\ } \\{p,t\\} \\in  \\mathcal{C}\\\\\n",
    "\"bkg\" & \\mathrm{si\\ } \\{s,p\\} \\in  \\mathcal{C}\n",
    "\\end{array}\n",
    "\\right.\n",
    "$$\n",
    "\n",
    "La definición anterior es coherente porque todo corte elimina uno de los dos t-links</i> para cada pixel $p$, El lema anterior muestra que un corte mínimo $\\widehat{\\mathcal{C}}$ es posible. Entonces, se puede definir una segmentación correspondiente $\\widehat{A} = A(\\widehat{\\mathcal{C}})$."
   ]
  },
  {
   "cell_type": "markdown",
   "metadata": {
    "slideshow": {
     "slide_type": "slide"
    }
   },
   "source": [
    "<center><b>Segmentación y corte</b></center>\n",
    "\n",
    "<b>Teorema:</b> La segmentación $\\widehat{A} = A(\\widehat{\\mathcal{C}})$ definida por el corte de costo mínimo $\\widehat{\\mathcal{C}}$ minimiza la función de energía entre todas las segmentaciones posibles satisfaciendo las restricciones\n",
    "\n",
    "$$\\begin{array}{ll}\n",
    "\\forall p \\in \\mathcal{O}, & A_p = \"obj\"\n",
    "\\end{array}\t\n",
    "$$\n",
    "$$\n",
    "\\begin{array}{ll}\n",
    "\\forall p \\in \\mathcal{B}, & A_p = \"bkg\"\n",
    "\\end{array}\t\n",
    "$$"
   ]
  },
  {
   "cell_type": "markdown",
   "metadata": {
    "slideshow": {
     "slide_type": "slide"
    }
   },
   "source": [
    "<center><b>Segmentación y corte</b></center>\n",
    "\n",
    "<b>Prueba:</b> Usando la tabla de pesos y las definiciones de $\\mathcal{F}$ y $A_p(\\mathcal{C})$, se puede mostrar que el costo de calquier corte $\\mathcal{C} \\in \\mathcal{F}$ es\n",
    "\n",
    "\\begin{align}\n",
    "|\\mathcal{C}| &= \\sum_{p\\notin \\mathcal{O} \\cup \\mathcal{B}} \\lambda R_p(A_p(\\mathcal{C})) + \\sum_{\\{p,q\\}\\in \\mathcal{N}} B_{\\{p,q\\}} \\delta (A_p(\\mathcal{C}),A_q(\\mathcal{C}))\\notag\\\\\n",
    "&= E(A(\\mathcal{C})) - \\sum_{p \\in \\mathcal{O}} \\lambda R_p(\"obj\")-\\sum_{p \\in \\mathcal{B}} \\lambda R_p(\"bkg\")\\notag\n",
    "\\end{align}\n",
    "\n",
    "Por lo tanto, $|\\mathcal{C}|= E(A(\\mathcal{C}))-const$. Notar que para cualquier $\\mathcal{C} \\in \\mathcal{F}$ la asignación $A(\\mathcal{C})$ satisface las restricciones planteadas. La definición de $A_p(\\mathcal{C})$ da una correspondencia uno a uno entre el conjunto de todos los cortes posibles en $\\mathcal{F}$ y el conjunto $\\mathcal{H}$ de todas las asignaciones $A$ que satisfacen las restricciones. Entonces,\n",
    "\\begin{equation}\n",
    "E(\\widehat{A}) = |\\widehat{\\mathcal{C}}|+const = \\min_{\\mathcal{C} \\in \\mathcal{F}} |\\mathcal{C}|+const = \\min_{\\mathcal{C} \\in \\mathcal{F}} E(A(\\mathcal{C})) = \\min_{\\mathcal{C} \\in \\mathcal{H}} E(A)\\notag\n",
    "\\end{equation}"
   ]
  },
  {
   "cell_type": "markdown",
   "metadata": {
    "slideshow": {
     "slide_type": "slide"
    }
   },
   "source": [
    "<center><b>Algunos conceptos necesarios de teoría de grafos</b></center>\n",
    "\n",
    "<b>Red</b>\n",
    "\n",
    "- Si $v$ es un vértice en un grafo dirigido y $v$ no tiene aristas entrantes, $v$ es una fuente. Si $v$ no tiene aristas salientes, es un sumidero.\n",
    "\n",
    "- Una red es un grafo dirigido que tiene exactamente una fuente y un sumidero. Los vértices se llaman nodos y las aristas se llaman arcos.\n",
    "\n",
    "- Si los arcos de la red tienen capacidades asignadas, la red se puede definir en base a un grafo dirigdo $\\mathcal{G} = (\\mathcal{V},\\mathcal{E})$ que incluye los vértices terminales (fuente y sumidero) más la función de capacidades $c:\\mathcal{E} \\rightarrow \\mathbb{R}_+$.\n",
    "\n",
    "- La red $\\mathcal{M}$ queda definida como $\\mathcal{M} = \\{\\mathcal{G}, c\\}$."
   ]
  },
  {
   "cell_type": "markdown",
   "metadata": {
    "slideshow": {
     "slide_type": "slide"
    }
   },
   "source": [
    "<center><b>Algunos conceptos necesarios de teoría de grafos</b></center>\n",
    "\n",
    "<b>Flujo</b>\n",
    "\n",
    "- Se considera una red con $n$ nodos, una fuente $v_1$ y un sumidero $v_n$, a través de la cual fluye cierto elemento o sustancia desde $v_1$ hasta $v_n$. \n",
    "- Se asume que existe una capacidad máxima de flujo $u_{ij}$ para cada arco $\\{v_i,v_j\\}$. \n",
    "- Se asume también que hay una <i>conservación de flujo</i> en cada nodo distinto de la fuente y el sumidero."
   ]
  },
  {
   "cell_type": "markdown",
   "metadata": {
    "slideshow": {
     "slide_type": "slide"
    }
   },
   "source": [
    "<center><b>Algunos conceptos necesarios de teoría de grafos</b></center>\n",
    "\n",
    "<b>Capacidad residual</b>\n",
    "\n",
    "La capacidad $c$ de un arco $\\{p,q\\}$ determina la cantidad máxima de flujo $f$ que puede ir de $p$ a $q$ por el arco $\\{p,q\\}$. La capacidad residual $c_f$ en un arco $\\{p,q\\}$ se define como el máximo flujo adicional que puede ir de $p$ a $q$ a través de los arcos $\\{p,q\\}$ y $\\{q,p\\}$.\n",
    "\n",
    "$$\n",
    "c_f(\\{p,q\\}) = \\left\\{\n",
    "\\begin{array}{ll}\n",
    "c(\\{p,q\\})-f(\\{p,q\\}) & \\mathrm{si\\ } f(\\{p,q\\}) \\geq 0\\\\\n",
    "c(\\{p,q\\})+f(\\{q,p\\}) & \\mathrm{si\\ } f(\\{q,p\\}) > 0\n",
    "\\end{array}\n",
    "\\right.\n",
    "$$\n",
    "\n",
    "<b>Red residual</b>\n",
    "\n",
    "Se define la red residual $\\mathcal{M}_f$  de la red $\\mathcal{M}=\\{\\mathcal{G}, c\\}$ como $\\mathcal{M}_f = \\{\\mathcal{G}, c_f\\}$."
   ]
  },
  {
   "cell_type": "markdown",
   "metadata": {
    "slideshow": {
     "slide_type": "slide"
    }
   },
   "source": [
    "<center><b>Flujo máximo/corte mínimo</b></center>\n",
    "\n",
    "- El problema de la segmentación se reduce ahora a encontrar el corte de costo mínimo $\\widehat{\\mathcal{C}}$ en $\\mathcal{G}$.\n",
    "\n",
    "- Según el teorema <i>Max-Flow/Min-Cut</i>, en una red $\\mathcal{M}$ el mayor flujo posible entre la fuente y el sumidero es igual al corte de costo mínimo en $\\mathcal{M}$."
   ]
  },
  {
   "cell_type": "markdown",
   "metadata": {
    "slideshow": {
     "slide_type": "slide"
    }
   },
   "source": [
    "<center><b>Flujo máximo/corte mínimo</b></center>\n",
    "\n",
    "Para aplicar el teorema al problema de segmentación es necesario crear una red a partir del grafo $\\mathcal{G}$. Se define entonces la red $\\mathcal{M}$, con el mismo conjunto de vértices $\\mathcal{V}$ de $\\mathcal{G}$ donde\n",
    "\n",
    "- Los vértices $s$ y $t$ son la fuente y el sumidero de $\\mathcal{M}$ respectivamente.\n",
    "- Por cada arista <i>n-link</i> $\\{p,q\\}$ con peso $w$ en $\\mathcal{G}$, existen dos aristas dirigidas $\\{p,q\\}$ y $\\{q,p\\}$ en $\\mathcal{M}$ con capacidad $w$. Es decir, $c(\\{p,q\\}) = w_{pq}$.\n",
    "- Por cada arista <i>t-link</i> $\\{s,p\\}$ con peso $w$ en $\\mathcal{G}$, existe una arista dirigida $\\{s,p\\}$ en $\\mathcal{M}$ con capacidad $w$.\n",
    "- Por cada arista <i>t-link</i> $\\{p,t\\}$ con peso $w$ en $\\mathcal{G}$, existe una arista dirigida $\\{p,t\\}$ en $\\mathcal{M}$ con capacidad $w$."
   ]
  },
  {
   "cell_type": "markdown",
   "metadata": {
    "slideshow": {
     "slide_type": "slide"
    }
   },
   "source": [
    "<center><b>Flujo máximo/corte mínimo</b></center>\n",
    "\n",
    "- El corte de costo mínimo en $\\mathcal{M}$ es igual a $\\widehat{\\mathcal{C}}$ en $\\mathcal{G}$. \n",
    "- La afirmación anteior es válida porque la red $\\mathcal{M}$ tiene la misma topología que $\\mathcal{G}$ salvo por la aparente duplicación de las aristas <i>n-link</i>. \n",
    "- El hecho de que existan dos aristas dirigidas $\\{p,q\\}$ y $\\{q,p\\}$, ambas con capacidad $c$ impica que el flujo máximo en cualquier dirección entre $p$ y $q$ no puede superar a $c$, por lo tanto la capacidad de flujo entre $p$ y $q$ en $\\mathcal{M}$ es igual al peso de la arista $\\{p,q\\}$ en $\\mathcal{G}$."
   ]
  },
  {
   "cell_type": "markdown",
   "metadata": {
    "slideshow": {
     "slide_type": "slide"
    }
   },
   "source": [
    "<center><b>Método de segmentación</b></center>\n",
    "\n",
    "<b>Idea general</b>\n",
    "\n",
    "- Se busca el corte de costo mínimo en la red que representa la imagen.\n",
    "- El método comienza con flujo nulo en la red. \n",
    "- Iterativamente se buscan caminos entre los nodos $s$ y $t$ y se asigna a cada camino encontrado una cantidad de flujo igual a su capacidad máxima.\n",
    "- Cuando todos los caminos posibles se encuentran saturados, se ha alcanzado el flujo máximo. \n",
    "- El corte de costo mínimo queda formado por un subconjunto de los arcos saturados."
   ]
  },
  {
   "cell_type": "markdown",
   "metadata": {
    "slideshow": {
     "slide_type": "slide"
    }
   },
   "source": [
    "<center><b>Método de segmentación</b></center>\n",
    "\n",
    "<b>Definiciones</b>\n",
    "\n",
    "- <b>Árboles $\\mathcal{S}$ y $\\mathcal{T}$</b>.\n",
    "Sobre la red $\\mathcal{M}$ se definen los árboles no superpuestos $\\mathcal{S}$ y $\\mathcal{T}$ con raices en los nodos $s$ y $t$ respectivamente. Inicialmente los árboles estarán formado solo por sus raices y evolucionarán durante la ejecución del método.\n",
    "\n",
    "- <b>Nodos libres</b>.\n",
    "Los nodos de la red $\\mathcal{M}$ que no pertenecen a los árboles $\\mathcal{S}$ y $\\mathcal{T}$ son llamados \"nodos libres\".\n",
    "\n",
    "- <b>Nodos activos y pasivos.</b>\n",
    "Los nodos que pertenecen a los árboles $\\mathcal{S}$ y $\\mathcal{T}$ pueden ser activos o pasivos. Los nodos marcados como pasivos son aquellos donde el método detectó que el árbol no se puede expander. Por el contrario, los nodos activos son los que todavía pueden ser analizados con el objeto de expandir el árbol."
   ]
  },
  {
   "cell_type": "markdown",
   "metadata": {
    "slideshow": {
     "slide_type": "slide"
    }
   },
   "source": [
    "<center><b>Método de segmentación</b></center>\n",
    "\n",
    "<b>Detalles</b>\n",
    "\n",
    "- Se utiliza una lista ordenada de nodos $L$ para definir el orden en que se recorre la red.\n",
    "- Estado inicial:\n",
    "    - Los árboles $\\mathcal{S}$ y $\\mathcal{T}$ están formados solo por sus raices $s$ y $t$.\n",
    "    - Los nodos $s$ y $t$ están activos.\n",
    "- Iterativamente se ejecutan las etapas de crecimiento, camino y adopción."
   ]
  },
  {
   "cell_type": "markdown",
   "metadata": {
    "slideshow": {
     "slide_type": "slide"
    }
   },
   "source": [
    "<center><b>Método de segmentación</b></center>\n",
    "\n",
    "<b>Estado inicial</b>\n",
    "\n",
    "\n",
    "<center>\n",
    "<img src=\"Diapositiva01.PNG\" width=\"100%\">\n",
    "</center>"
   ]
  },
  {
   "cell_type": "markdown",
   "metadata": {
    "slideshow": {
     "slide_type": "slide"
    }
   },
   "source": [
    "<center><b>Método de segmentación</b></center>\n",
    "\n",
    "<b>Etapa de Crecimiento</b>\n",
    "\n",
    "- En esta etapa se realiza la expasión los árboles $\\mathcal{S}$ y $\\mathcal{T}$. \n",
    "- Se recorren los nodos activos, primero del árbol $\\mathcal{S}$ y después los del árbol $\\mathcal{T}$. \n",
    "- Se exploran en orden los nodos libres conectados a nodos activos. \n",
    "- Dos nodos se consideran conectados cuando el arco es saliente del nodo activo (árbol $\\mathcal{S}$), y entrante al nodo activo (árbol $\\mathcal{T}$). \n",
    "- Los nodos explorados se añaden a los árboles como nodos activos. \n",
    "- Cuando se han explorado todos los arcos de un nodo activo, este se convierte en pasivo.\n",
    "- La etapa termina cuando se encuentra un arco que conecta el árbol $\\mathcal{S}$ con el árbol $\\mathcal{T}$. Se ha encontrado un camino entre los nodos terminales."
   ]
  },
  {
   "cell_type": "markdown",
   "metadata": {
    "slideshow": {
     "slide_type": "slide"
    }
   },
   "source": [
    "<center><b>Método de segmentación</b></center>\n",
    "\n",
    "<b>Etapa de crecimiento</b>\n",
    "\n",
    "\n",
    "<center>\n",
    "<img src=\"Diapositiva02.PNG\" width=\"100%\">\n",
    "</center>\n",
    "\n",
    "Se asignan los nodos 1 y 2 a $\\mathcal{S}$ y los nodos 5 y 6 a $\\mathcal{T}$"
   ]
  },
  {
   "cell_type": "markdown",
   "metadata": {
    "slideshow": {
     "slide_type": "slide"
    }
   },
   "source": [
    "<center><b>Método de segmentación</b></center>\n",
    "\n",
    "<b>Etapa de crecimiento</b>\n",
    "\n",
    "\n",
    "<center>\n",
    "<img src=\"Diapositiva03.PNG\" width=\"100%\">\n",
    "</center>\n",
    "\n",
    "Sigue la etapa de crecimiento. Se asignan los nodos 3 y 4 a $\\mathcal{S}$, ambos con padre: 1."
   ]
  },
  {
   "cell_type": "markdown",
   "metadata": {
    "slideshow": {
     "slide_type": "slide"
    }
   },
   "source": [
    "<center><b>Método de segmentación</b></center>\n",
    "\n",
    "<b>Etapa de crecimiento</b>\n",
    "\n",
    "\n",
    "<center>\n",
    "<img src=\"Diapositiva04.PNG\" width=\"100%\">\n",
    "</center>\n",
    "\n",
    "Sigue etapa de crecimiento Los nodos 1 y 2 se marcan como pasivos. Termina la etapa al encontrar el camino $s$-1-3-5-$t$."
   ]
  },
  {
   "cell_type": "markdown",
   "metadata": {
    "slideshow": {
     "slide_type": "slide"
    }
   },
   "source": [
    "<center><b>Método de segmentación</b></center>\n",
    "\n",
    "<b>Etapa de Camino</b>\n",
    "\n",
    "- Se determina la cantidad máxima de flujo $f$ que puede pasar por el camino $path$ encontrado en la etapa anterior. \n",
    "\n",
    "$$\n",
    "f = \\min_{e \\in path} c_f(e)\n",
    "$$\n",
    "\n",
    "- Se reemplaza la red $\\mathcal{M}$ por la red residual $\\mathcal{M}_f$ resultante de la circulación del flujo $f$ a través del camino $path$ de $\\mathcal{M}$.\n",
    "\n",
    "- Las aristas de capacidad mínima en $path$ quedarán saturadas. \n",
    "\n",
    "- Un arco con capacidad nula se considera inexistente. Algunos nodos podrían perder la conexión con su árbol. Estos nodos se llaman huérfanos."
   ]
  },
  {
   "cell_type": "markdown",
   "metadata": {
    "slideshow": {
     "slide_type": "slide"
    }
   },
   "source": [
    "<center><b>Método de segmentación</b></center>\n",
    "\n",
    "<b>Etapa de camino</b>\n",
    "\n",
    "\n",
    "<center>\n",
    "<img src=\"Diapositiva05.PNG\" width=\"100%\">\n",
    "</center>\n",
    "\n",
    "Se asigna el flujo máximo al camino según la capacidad mínima de sus arcos. Se calcula la red residual para $f=10$ en el camino $s$-1-3-5-$t$. El nodo 3 queda huérfano porque la capacidad residual $c_f(\\{1,3\\})=0$."
   ]
  },
  {
   "cell_type": "markdown",
   "metadata": {
    "slideshow": {
     "slide_type": "slide"
    }
   },
   "source": [
    "<center><b>Método de segmentación</b></center>\n",
    "\n",
    "<b>Etapa de Adopción</b>\n",
    "\n",
    "- Se intenta encontrar un nuevo padre para cada nodo huérfano $h$. \n",
    "- La búsqueda se realiza entre los nodos del árbol al que pertenecía $h$ según el orden de la lista $L$. \n",
    "- Si no es posible encontrar un padre, $h$ se declara libre. \n",
    "- La etapa termina cuando no quedan nodos huérfanos."
   ]
  },
  {
   "cell_type": "markdown",
   "metadata": {
    "slideshow": {
     "slide_type": "slide"
    }
   },
   "source": [
    "<center><b>Método de segmentación</b></center>\n",
    "\n",
    "<b>Etapa de adopción</b>\n",
    "\n",
    "\n",
    "<center>\n",
    "<img src=\"Diapositiva06.PNG\" width=\"100%\">\n",
    "</center>\n",
    "\n",
    "El nodo 3 se asigna nuevamente al arbol $\\mathcal{S}$, ahora con padre: 2."
   ]
  },
  {
   "cell_type": "markdown",
   "metadata": {
    "slideshow": {
     "slide_type": "slide"
    }
   },
   "source": [
    "<center><b>Método de segmentación</b></center>\n",
    "\n",
    "<b>Corte de las iteraciones</b>\n",
    "\n",
    "- El método termina cuando los árboles no pueden seguir creciendo. No se encuentran caminos no saturados entre $s$ y $t$. Los árboles $\\mathcal{S}$ y $\\mathcal{T}$ quedan separados por arcos saturados (en dirección $\\mathcal{S} \\rightarrow \\mathcal{T}$).\n",
    "- Si todavía existen nodos libres, hay más de un corte de costo mínimo. En este caso, todos los nodos libres a asignan a alguno de los dos árboles.\n",
    "- Finalmente, la segmentación de la imagen se logra asignando los pixeles correspondientes a los nodos del árbol $\\mathcal{S}$ al objeto y a los del árbol $\\mathcal{T}$ al fondo."
   ]
  },
  {
   "cell_type": "markdown",
   "metadata": {
    "slideshow": {
     "slide_type": "slide"
    }
   },
   "source": [
    "<center><b>Método de segmentación</b></center>\n",
    "\n",
    "<b>Final</b>\n",
    "\n",
    "\n",
    "<center>\n",
    "<img src=\"Diapositiva24.PNG\" width=\"100%\">\n",
    "</center>\n",
    "\n",
    "El corte de costo mínimo de la red es  $\\widehat{\\mathcal{C}} = \\{ \\{1,3\\}, \\{1,4\\}, \\{2,3\\}, \\{2,4\\}\\}$ y el resultado de la segmentación $A_1 = A_2 = \"obj\"$, $A_3 = A_4 = A_5 = A_6 = \"bkg\"$."
   ]
  },
  {
   "cell_type": "markdown",
   "metadata": {
    "slideshow": {
     "slide_type": "slide"
    }
   },
   "source": [
    "<center>\n",
    "### Gracias!"
   ]
  }
 ],
 "metadata": {
  "celltoolbar": "Slideshow",
  "kernelspec": {
   "display_name": "Python 2",
   "language": "python",
   "name": "python2"
  },
  "language_info": {
   "codemirror_mode": {
    "name": "ipython",
    "version": 3
   },
   "file_extension": ".py",
   "mimetype": "text/x-python",
   "name": "python",
   "nbconvert_exporter": "python",
   "pygments_lexer": "ipython3",
   "version": "3.7.4"
  }
 },
 "nbformat": 4,
 "nbformat_minor": 2
}
